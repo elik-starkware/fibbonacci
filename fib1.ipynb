{
 "cells": [
  {
   "cell_type": "markdown",
   "metadata": {},
   "source": [
    "\n",
    "## Imports"
   ]
  },
  {
   "cell_type": "code",
   "execution_count": null,
   "metadata": {},
   "outputs": [],
   "source": [
    "%reload_ext autoreload\n",
    "%autoreload 2\n",
    "from merkle_tree import MerkleTree\n",
    "from channel import Channel\n",
    "from pprint import pprint"
   ]
  },
  {
   "cell_type": "code",
   "execution_count": null,
   "metadata": {},
   "outputs": [],
   "source": [
    "# Test\n",
    "\n",
    "from pprint import pprint\n",
    "\n",
    "m = MerkleTree([1, 2, 3, 4, 5, 6, 7, 8])\n",
    "pprint([[b[:4] for b in a] for a in m.tree])\n",
    "print(m.root)\n",
    "pprint([a[:4] for a in m.get_path(0)])"
   ]
  },
  {
   "cell_type": "markdown",
   "metadata": {},
   "source": [
    "### Fibonacci function"
   ]
  },
  {
   "cell_type": "code",
   "execution_count": null,
   "metadata": {},
   "outputs": [],
   "source": [
    "def fibonacci(a=1, size=1001) -> list[int]:\n",
    "    fib_list = [1, a]\n",
    "    for _ in range(2, size):\n",
    "        fib_list.append(fib_list[-1] + fib_list[-2])\n",
    "    return fib_list"
   ]
  },
  {
   "cell_type": "code",
   "execution_count": null,
   "metadata": {},
   "outputs": [],
   "source": [
    "print(fibonacci())"
   ]
  },
  {
   "cell_type": "markdown",
   "metadata": {},
   "source": [
    "### Polynomial f(x)"
   ]
  },
  {
   "cell_type": "code",
   "execution_count": null,
   "metadata": {},
   "outputs": [],
   "source": [
    "P: int =3221225473\n",
    "F = GF(P)\n",
    "N = 8192\n",
    "\n",
    "g = F(1734477367)\n",
    "gamma = g ** 8\n",
    "gamma_group = [gamma ** i for i in range(1001)]\n",
    "\n",
    "fibonacci_seq = fibonacci()\n",
    "\n",
    "R.<x> = PolynomialRing(F)\n",
    "\n",
    "f = R.lagrange_polynomial(zip(gamma_group, fibonacci_seq))"
   ]
  },
  {
   "cell_type": "markdown",
   "metadata": {},
   "source": [
    "### Bit Reverse Order"
   ]
  },
  {
   "cell_type": "code",
   "execution_count": null,
   "metadata": {},
   "outputs": [],
   "source": [
    "def bit_reverse(n, width):\n",
    "    rev = 0  # This will store the reversed bits\n",
    "    for i in range(width):\n",
    "        rev = (rev << 1) | (n & 1)  # Shift left and take LSB of n\n",
    "        n >>= 1  # Shift n to the right\n",
    "    return rev\n",
    "\n",
    "\n",
    "def bit_reverse_permutation(N):\n",
    "    \"\"\"Generate bit-reversed order for N elements.\"\"\"\n",
    "    width = int(math.log(N, 2))\n",
    "    return [bit_reverse(i, width) for i in range(N)]\n",
    "\n",
    "\n",
    "bit_reverse_order = bit_reverse_permutation(N)"
   ]
  },
  {
   "cell_type": "markdown",
   "metadata": {},
   "source": [
    "### w < g >"
   ]
  },
  {
   "cell_type": "code",
   "execution_count": null,
   "metadata": {},
   "outputs": [],
   "source": [
    "w = F.multiplicative_generator()\n",
    "\n",
    "g_group = [g ** i for i in range(N)]\n",
    "\n",
    "wg = [w * gi for gi in g_group]\n",
    "wg_merkle_order = [wg[i] for i in bit_reverse_order]"
   ]
  },
  {
   "cell_type": "markdown",
   "metadata": {},
   "source": [
    "### Commit f(x) on LDE"
   ]
  },
  {
   "cell_type": "code",
   "execution_count": null,
   "metadata": {},
   "outputs": [],
   "source": [
    "channel = Channel(F)\n",
    "\n",
    "f_wg = [f(x) for x in wg_merkle_order]\n",
    "\n",
    "merkle_f_wg = MerkleTree(f_wg)\n",
    "\n",
    "channel.send({'title': 'f(x) on LDE', 'data': merkle_f_wg.root})"
   ]
  },
  {
   "cell_type": "markdown",
   "metadata": {},
   "source": [
    "### Polynomial h(x)"
   ]
  },
  {
   "cell_type": "code",
   "execution_count": null,
   "metadata": {},
   "outputs": [],
   "source": [
    "d_x = 1\n",
    "for gamma_i in gamma_group[:-2]:\n",
    "    d_x = d_x * (x - gamma_i)\n",
    "\n",
    "F_x = f(x) + f(gamma * x) - f((gamma**2) * x)\n",
    "\n",
    "h_x = F_x // d_x"
   ]
  },
  {
   "cell_type": "code",
   "execution_count": null,
   "metadata": {},
   "outputs": [],
   "source": [
    "h_wg = [F_x(x) / d_x(x) for x in wg_merkle_order]\n",
    "\n",
    "# Sanity check\n",
    "print([h_x(x) for x in wg_merkle_order][:10])\n",
    "print(h_wg[:10])"
   ]
  },
  {
   "cell_type": "markdown",
   "metadata": {},
   "source": [
    "### Boundary Constraints"
   ]
  },
  {
   "cell_type": "code",
   "execution_count": null,
   "metadata": {},
   "outputs": [],
   "source": [
    "Y = fibonacci_seq[-1]\n",
    "\n",
    "t0_x = (f(x) - 1) / (x - gamma ** 0)\n",
    "t1_x = (f(x) - Y) / (x - gamma ** 1000)"
   ]
  },
  {
   "cell_type": "code",
   "execution_count": null,
   "metadata": {},
   "outputs": [],
   "source": [
    "t0_wg = [(f(i) - 1) / (i - gamma ** 0) for i in wg_merkle_order]\n",
    "t1_wg = [(f(i) - Y) / (i - gamma ** 1000) for i in wg_merkle_order]\n",
    "\n",
    "# Sanity check\n",
    "print([t0_x(x) for x in wg_merkle_order][:10])\n",
    "print(t0_wg[:10])\n",
    "print(\"\")\n",
    "print([t1_x(x) for x in wg_merkle_order][:10])\n",
    "print(t1_wg[:10])"
   ]
  },
  {
   "cell_type": "markdown",
   "metadata": {},
   "source": [
    "### Composition Polynomial"
   ]
  },
  {
   "cell_type": "code",
   "execution_count": null,
   "metadata": {},
   "outputs": [],
   "source": [
    "beta_0 = channel.receive_random_field_element()\n",
    "beta_1 = channel.receive_random_field_element()\n",
    "beta_2 = channel.receive_random_field_element()\n",
    "\n",
    "cp0_x = beta_0 * h_x + beta_1 * t0_x + beta_2 * t1_x"
   ]
  },
  {
   "cell_type": "code",
   "execution_count": null,
   "metadata": {},
   "outputs": [],
   "source": [
    "cp0_wg = [beta_0 * h_wg[i] + beta_1 * t0_wg[i] + beta_2 * t1_wg[i]\n",
    "          for i in range(len(wg))]\n",
    "\n",
    "# Sanity check\n",
    "print([cp0_x(x) for x in wg_merkle_order][:10])\n",
    "print(cp0_wg[:10])"
   ]
  },
  {
   "cell_type": "markdown",
   "metadata": {},
   "source": [
    "### FRI"
   ]
  },
  {
   "cell_type": "code",
   "execution_count": null,
   "metadata": {},
   "outputs": [],
   "source": [
    "fri_layers = []\n",
    "degree = R(cp0_x).degree()\n",
    "# if degree % 2 != 0:\n",
    "#     degree += 1\n",
    "\n",
    "curr_cp = [cp0_x(x) for x in wg_merkle_order]\n",
    "while degree > 0:\n",
    "    fri_layers.append(curr_cp)\n",
    "    # Commit curr layer\n",
    "    merkle_curr_cp = MerkleTree(curr_cp)\n",
    "    channel.send({\n",
    "        \"title\": f\"commit for layer {len(fri_layers) - 1} of FRI\",\n",
    "        \"data\": merkle_curr_cp.root,\n",
    "    })\n",
    "    random_x = channel.receive_random_field_element()\n",
    "    curr_cp = [((curr_cp[i] + curr_cp[i + 1]) / 2) +\n",
    "               random_x * (curr_cp[i] - curr_cp[i + 1]) / (2 * wg_merkle_order[i]) for i in range(len(curr_cp))[::2]]\n",
    "    degree = degree // 2\n",
    "\n",
    "constant = curr_cp[0]\n",
    "channel.send({\"title:\": \"constant of last FRI layer\",\n",
    "              \"data\": str(constant),\n",
    "              })"
   ]
  },
  {
   "cell_type": "code",
   "execution_count": null,
   "metadata": {},
   "outputs": [],
   "source": [
    "print(fri_layers)\n",
    "print(\"Merkle Root\")\n",
    "print(curr_cp[0])"
   ]
  },
  {
   "cell_type": "code",
   "execution_count": null,
   "metadata": {},
   "outputs": [],
   "source": [
    "# Sanity check\n",
    "print(curr_cp)"
   ]
  },
  {
   "cell_type": "code",
   "execution_count": null,
   "metadata": {},
   "outputs": [],
   "source": [
    "pprint(channel.get_all_messages())"
   ]
  },
  {
   "cell_type": "markdown",
   "metadata": {},
   "source": [
    "### Decommit Phase"
   ]
  },
  {
   "cell_type": "markdown",
   "metadata": {},
   "source": [
    "# TIOTA\n"
   ]
  },
  {
   "cell_type": "code",
   "execution_count": null,
   "metadata": {},
   "outputs": [],
   "source": [
    "\n",
    "\n",
    "\n",
    "\n",
    "cp_prev = R(cp_0_x)\n",
    "cps = []\n",
    "print(\"channel before FRI\", channel.get_all_messages())\n",
    "while cp_prev.degree() > 0:\n",
    "    cp_prev_on_wg = [cp_prev(i) for i in wg]\n",
    "\n",
    "    merk = MerkleTree([cp_prev_on_wg[i] for i in bit_reverse_order])\n",
    "    commit = merk.root\n",
    "    channel.send({'title': f'commit for degree {cp_prev.degree()}', 'data': commit})\n",
    "    \n",
    "    random_x = channel.receive_random_field_element()\n",
    "    cp_next = (cp_prev(x) + cp_prev(-x)) // 2 + random_x * (cp_prev(x) - cp_prev(-x)) // (2 * x)\n",
    "    cp_next = sum(coef * x^(exp // 2) for exp, coef in R(cp_next).dict().items())\n",
    "    cps.append(cp_prev)\n",
    "    cp_prev = cp_next\n",
    "\n",
    "channel.send({'title': 'final_commit', 'data': cp_prev})\n",
    "\n",
    "def verify_merkle_path(merkle_root: str, merkle_path: list[str]):\n",
    "    root = merkle_path[0]\n",
    "    for sibling in merkle_path[1:]:\n",
    "        root = sha256((root + sibling).encode()).hexdigest()\n",
    "    return root == merkle_root\n",
    "\n",
    "\n"
   ]
  },
  {
   "cell_type": "markdown",
   "metadata": {},
   "source": [
    "## Decommit Phase"
   ]
  },
  {
   "cell_type": "code",
   "execution_count": null,
   "metadata": {},
   "outputs": [],
   "source": [
    "from random import randint, seed\n",
    "seed(int(42069))\n",
    "\n",
    "rand_idx = randint(0, len(wg))\n",
    "rand_x = wg[rand_idx]\n",
    "f_x_at_idx = f(rand_x)\n",
    "f_x_at_g_idx = f(gamma * rand_x)\n",
    "f_x_at_g2_idx = f(gamma**2 * rand_x)\n",
    "\n",
    "channel.send({'title': 'decommit phase 0 ', 'data': {\n",
    "             'result': f_x_at_idx, 'path': merkle_f_wg.get_path(rand_idx)}})\n",
    "\n",
    "for i in range(len(cps)):\n",
    "    cp = cps[i]\n",
    "    cp_at_idx = cp(rand_x)\n",
    "    cp_at_neg_idx = cp(-rand_idx)"
   ]
  }
 ],
 "metadata": {
  "kernelspec": {
   "display_name": "SageMath 9.5",
   "language": "sage",
   "name": "sagemath"
  },
  "language_info": {
   "codemirror_mode": {
    "name": "ipython",
    "version": 3
   },
   "file_extension": ".py",
   "mimetype": "text/x-python",
   "name": "python",
   "nbconvert_exporter": "python",
   "pygments_lexer": "ipython3",
   "version": "3.10.12"
  }
 },
 "nbformat": 4,
 "nbformat_minor": 2
}
